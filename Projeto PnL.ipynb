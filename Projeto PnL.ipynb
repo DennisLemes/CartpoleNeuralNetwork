{
 "cells": [
  {
   "cell_type": "code",
   "execution_count": 2,
   "id": "fbcdf092",
   "metadata": {},
   "outputs": [
    {
     "name": "stdout",
     "output_type": "stream",
     "text": [
      "WARNING:tensorflow:From C:\\Users\\Usuário\\AppData\\Roaming\\Python\\Python38\\site-packages\\tensorflow\\python\\compat\\v2_compat.py:111: disable_resource_variables (from tensorflow.python.ops.variable_scope) is deprecated and will be removed in a future version.\n",
      "Instructions for updating:\n",
      "non-resource variables are not supported in the long term\n",
      "curses is not supported on this machine (please install/reinstall curses for an optimal experience)\n"
     ]
    }
   ],
   "source": [
    "import gym\n",
    "import random\n",
    "import numpy as np\n",
    "import tflearn\n",
    "from tflearn.layers.core import input_data, dropout, fully_connected\n",
    "from tflearn.layers.estimator import regression\n",
    "from statistics import median, mean\n",
    "from collections import Counter\n",
    "from keras.models import Sequential\n",
    "from keras.layers import Dense, Dropout\n",
    "from tensorflow.keras.optimizers import Adam\n",
    "\n",
    "\n",
    "env = gym.make(\"CartPole-v1\")\n",
    "env.reset()\n",
    "goal_steps = 500\n",
    "score_requirement = 60\n",
    "initial_games = 100000"
   ]
  },
  {
   "cell_type": "code",
   "execution_count": 9,
   "id": "5fa61b8d",
   "metadata": {},
   "outputs": [],
   "source": [
    "def jogos_aleatórios_primeiro():\n",
    "    #isso é apenas uma visualização de jogos com ações aleatórias, não é necessário.\n",
    "    for episode in range(5):\n",
    "        env.reset()\n",
    "        for t in range(200):\n",
    "            env.render()\n",
    "            action = env.action_space.sample()\n",
    "            observation, reward, done, info = env.step(action)\n",
    "            if done:\n",
    "                break\n",
    "                \n",
    "jogos_aleatórios_primeiro()"
   ]
  },
  {
   "cell_type": "code",
   "execution_count": 10,
   "id": "f1fe2b79",
   "metadata": {},
   "outputs": [],
   "source": [
    "def população_inicial():\n",
    "    training_data = []\n",
    "    scores = []\n",
    "    accepted_scores = []\n",
    "    for _ in range(initial_games):\n",
    "        score = 0\n",
    "        game_memory = []\n",
    "        prev_observation = []\n",
    "        for _ in range(goal_steps):\n",
    "            action = random.randrange(0,2)\n",
    "            observation, reward, done, info = env.step(action)\n",
    "            if len(prev_observation) > 0 :\n",
    "                game_memory.append([prev_observation, action])\n",
    "            prev_observation = observation\n",
    "            score+=reward\n",
    "            if done: break\n",
    "        #aqui nós salvamos os jogos com pontos acima de um certo valor\n",
    "        if score >= score_requirement:\n",
    "            accepted_scores.append(score)\n",
    "            for data in game_memory:\n",
    "                #convertemos para one-hot\n",
    "                if data[1] == 1:\n",
    "                    output = [0,1]\n",
    "                elif data[1] == 0:\n",
    "                    output = [1,0]\n",
    "                training_data.append([data[0], output])\n",
    "        env.reset()\n",
    "        scores.append(score)\n",
    "        \n",
    "    print('Score médio aceitado:',mean(accepted_scores))\n",
    "    print('Mediana dos scores aceitados:',median(accepted_scores))\n",
    "    print(Counter(accepted_scores))\n",
    "    \n",
    "    return training_data"
   ]
  },
  {
   "cell_type": "code",
   "execution_count": 11,
   "id": "78867c4c",
   "metadata": {},
   "outputs": [],
   "source": [
    "def construir_modelo(input_size, output_size):\n",
    "    model = Sequential()\n",
    "    model.add(Dense(128, input_dim=input_size, activation='relu'))\n",
    "    model.add(Dense(64, activation='relu'))\n",
    "    model.add(Dense(output_size, activation='linear'))\n",
    "    model.compile(loss='mse', optimizer=Adam())\n",
    "\n",
    "    return model\n",
    "\n",
    "def treinar_modelo(training_data):\n",
    "    X = np.array([i[0] for i in training_data]).reshape(-1, len(training_data[0][0]))\n",
    "    y = np.array([i[1] for i in training_data]).reshape(-1, len(training_data[0][1]))\n",
    "    print(X)\n",
    "    print(y)\n",
    "    model = construir_modelo(input_size=len(X[0]), output_size=len(y[0]))\n",
    "    \n",
    "    model.fit(X, y, epochs=10)\n",
    "    return model"
   ]
  },
  {
   "cell_type": "code",
   "execution_count": 12,
   "id": "d02083fe",
   "metadata": {
    "scrolled": true
   },
   "outputs": [
    {
     "name": "stdout",
     "output_type": "stream",
     "text": [
      "Score médio aceitado: 71.66470971950424\n",
      "Mediana dos scores aceitados: 68.0\n",
      "Counter({60.0: 130, 61.0: 113, 63.0: 113, 62.0: 106, 67.0: 75, 65.0: 71, 66.0: 71, 64.0: 64, 71.0: 60, 68.0: 58, 69.0: 55, 70.0: 54, 72.0: 47, 73.0: 40, 75.0: 37, 77.0: 34, 76.0: 33, 74.0: 30, 81.0: 28, 82.0: 26, 79.0: 22, 78.0: 22, 84.0: 19, 80.0: 18, 85.0: 18, 86.0: 16, 87.0: 13, 83.0: 13, 96.0: 12, 88.0: 12, 91.0: 11, 100.0: 9, 89.0: 7, 102.0: 7, 94.0: 6, 101.0: 6, 90.0: 6, 99.0: 5, 93.0: 5, 95.0: 4, 92.0: 4, 115.0: 4, 106.0: 4, 114.0: 3, 119.0: 3, 104.0: 3, 108.0: 3, 103.0: 3, 98.0: 3, 113.0: 3, 97.0: 3, 107.0: 3, 125.0: 2, 105.0: 2, 109.0: 2, 144.0: 1, 131.0: 1, 156.0: 1, 112.0: 1, 124.0: 1, 137.0: 1, 110.0: 1, 111.0: 1, 118.0: 1, 117.0: 1, 133.0: 1, 138.0: 1})\n"
     ]
    }
   ],
   "source": [
    "training_data = população_inicial()"
   ]
  },
  {
   "cell_type": "code",
   "execution_count": 13,
   "id": "bd7b6ed6",
   "metadata": {
    "scrolled": true
   },
   "outputs": [
    {
     "name": "stdout",
     "output_type": "stream",
     "text": [
      "[[-0.02000112  0.21273008  0.03683412 -0.29778864]\n",
      " [-0.01574651  0.40730813  0.03087835 -0.57863096]\n",
      " [-0.00760035  0.21176735  0.01930573 -0.27638281]\n",
      " ...\n",
      " [-0.19299207 -0.36904536 -0.18474997 -0.52268889]\n",
      " [-0.20037298 -0.56115221 -0.19520375 -0.29344048]\n",
      " [-0.21159602 -0.36386075 -0.20107256 -0.64078342]]\n",
      "[[0 1]\n",
      " [1 0]\n",
      " [1 0]\n",
      " ...\n",
      " [1 0]\n",
      " [0 1]\n",
      " [1 0]]\n",
      "Train on 108329 samples\n",
      "Epoch 1/10\n",
      "108329/108329 [==============================] - 3s 27us/sample - loss: 0.2346\n",
      "Epoch 2/10\n",
      "108329/108329 [==============================] - 5s 43us/sample - loss: 0.2315\n",
      "Epoch 3/10\n",
      "108329/108329 [==============================] - 4s 38us/sample - loss: 0.2310\n",
      "Epoch 4/10\n",
      "108329/108329 [==============================] - 4s 38us/sample - loss: 0.2305\n",
      "Epoch 5/10\n",
      "108329/108329 [==============================] - 4s 35us/sample - loss: 0.2302\n",
      "Epoch 6/10\n",
      "108329/108329 [==============================] - 4s 33us/sample - loss: 0.2300\n",
      "Epoch 7/10\n",
      "108329/108329 [==============================] - 4s 33us/sample - loss: 0.2300\n",
      "Epoch 8/10\n",
      "108329/108329 [==============================] - 4s 38us/sample - loss: 0.2299\n",
      "Epoch 9/10\n",
      "108329/108329 [==============================] - 4s 39us/sample - loss: 0.2297\n",
      "Epoch 10/10\n",
      "108329/108329 [==============================] - 4s 37us/sample - loss: 0.2297\n"
     ]
    }
   ],
   "source": [
    "trained_model = treinar_modelo(training_data)"
   ]
  },
  {
   "cell_type": "code",
   "execution_count": 14,
   "id": "3c431e7f",
   "metadata": {},
   "outputs": [
    {
     "name": "stdout",
     "output_type": "stream",
     "text": [
      "[500.0, 102.0, 500.0, 500.0, 162.0, 134.0, 176.0, 500.0, 104.0, 500.0]\n",
      "Score médio: 317.8\n",
      "Direita:0.4977973568281938  Esquerda:0.5022026431718062\n"
     ]
    }
   ],
   "source": [
    "scores = []\n",
    "choices = []\n",
    "for each_game in range(10):\n",
    "    score = 0\n",
    "    prev_obs = []\n",
    "    for step_index in range(goal_steps):\n",
    "        env.render()\n",
    "        if len(prev_obs)==0:\n",
    "            action = random.randrange(0,2)\n",
    "        else:\n",
    "            action = np.argmax(trained_model.predict(prev_obs.reshape(-1, len(prev_obs)))[0])\n",
    "        \n",
    "        choices.append(action)\n",
    "        new_observation, reward, done, info = env.step(action)\n",
    "        prev_obs = new_observation\n",
    "        score+=reward\n",
    "        if done:\n",
    "            break\n",
    "\n",
    "    env.reset()\n",
    "    scores.append(score)\n",
    "\n",
    "print(scores)\n",
    "print('Score médio:',sum(scores)/len(scores))\n",
    "print('Direita:{}  Esquerda:{}'.format(choices.count(1)/len(choices),choices.count(0)/len(choices)))"
   ]
  },
  {
   "cell_type": "code",
   "execution_count": null,
   "id": "da19649d",
   "metadata": {},
   "outputs": [],
   "source": []
  }
 ],
 "metadata": {
  "kernelspec": {
   "display_name": "Python 3",
   "language": "python",
   "name": "python3"
  },
  "language_info": {
   "codemirror_mode": {
    "name": "ipython",
    "version": 3
   },
   "file_extension": ".py",
   "mimetype": "text/x-python",
   "name": "python",
   "nbconvert_exporter": "python",
   "pygments_lexer": "ipython3",
   "version": "3.8.8"
  }
 },
 "nbformat": 4,
 "nbformat_minor": 5
}
